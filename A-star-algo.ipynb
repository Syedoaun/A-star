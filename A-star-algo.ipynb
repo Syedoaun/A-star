{
  "cells": [
    {
      "cell_type": "code",
      "execution_count": null,
      "metadata": {
        "id": "ise1aaI0YSZp"
      },
      "outputs": [],
      "source": [
        "class Graph:\n",
        "    def __init__(self, adjac_lis):\n",
        "        self.adjac_lis = adjac_lis\n",
        "\n",
        "    def get_neighbors(self, v):\n",
        "        return self.adjac_lis[v]\n",
        "\n",
        "    # This is heuristic function which is having equal values for all nodes\n",
        "    def h(self, n):\n",
        "        H = {\n",
        "            'Arad': 366,\n",
        "            'Oradea': 380,\n",
        "            'Timisoara': 329,\n",
        "            'Zerind': 374,\n",
        "            'Lugoj': 244,\n",
        "            'Mehadia': 241,\n",
        "            'Drobeta': 242,\n",
        "            'Craiova': 160,\n",
        "            'Sibiu': 253,\n",
        "            'Fagaras': 176,\n",
        "            'Rimnicu Vilcea': 193,\n",
        "            'Pitesti': 100,\n",
        "            'Bucharest': 0\n",
        "        }\n",
        "        return H[n]\n",
        "\n",
        "    def a_star_algorithm(self, start, stop):\n",
        "        Open=[]\n",
        "        Open.append((start,self.h(start),0))              # (name,val,cost)\n",
        "        print(Open[0])\n",
        "        while Open:\n",
        "            if(Open[0][0]==stop):\n",
        "                return Open[0][2]\n",
        "\n",
        "            childs = adjac_lis[Open[0][0]]\n",
        "            for i in childs:\n",
        "                Open.append((i[0],self.h(i[0])+i[1],Open[0][2]+i[1]))  #+i[1]    #f=h+g\n",
        "\n",
        "            Open.pop(0)\n",
        "            Open=sorted(Open, key=lambda x: x[1])          # for sorting\n",
        "            print(Open[0])\n",
        "\n",
        "\n",
        "\n",
        "\n",
        "\n",
        "\n",
        ""
      ]
    },
    {
      "cell_type": "code",
      "execution_count": null,
      "metadata": {
        "id": "e9OIWUPBSNFd"
      },
      "outputs": [],
      "source": []
    },
    {
      "cell_type": "code",
      "execution_count": null,
      "metadata": {
        "id": "VKL7jhRISNFe"
      },
      "outputs": [],
      "source": []
    },
    {
      "cell_type": "code",
      "execution_count": null,
      "metadata": {
        "id": "Pn1RlzUTSNFe"
      },
      "outputs": [],
      "source": [
        "O=[]\n",
        "O.append(('Arad',111))"
      ]
    },
    {
      "cell_type": "code",
      "execution_count": null,
      "metadata": {
        "id": "JxDg2RYWSNFf",
        "outputId": "170d88dc-4915-4b31-82c3-4a5c21d370a1"
      },
      "outputs": [
        {
          "data": {
            "text/plain": [
              "'Arad'"
            ]
          },
          "execution_count": 81,
          "metadata": {},
          "output_type": "execute_result"
        }
      ],
      "source": [
        "O[0][0]"
      ]
    },
    {
      "cell_type": "code",
      "execution_count": null,
      "metadata": {
        "id": "RD2CSXQKSNFg",
        "outputId": "3b4018c1-6d58-4ea1-eb44-ec42569ce082"
      },
      "outputs": [
        {
          "data": {
            "text/plain": [
              "'Timisoara'"
            ]
          },
          "execution_count": 98,
          "metadata": {},
          "output_type": "execute_result"
        }
      ],
      "source": [
        "childs = adjac_lis[O[0][0]]\n",
        "childs[0][0]"
      ]
    },
    {
      "cell_type": "code",
      "execution_count": null,
      "metadata": {
        "id": "ZkBqmD5NYZpu",
        "outputId": "f55b03a7-1b92-4914-ce2e-3afb174e6504"
      },
      "outputs": [
        {
          "name": "stdout",
          "output_type": "stream",
          "text": [
            "('Timisoara', 118)\n",
            "('Zerind', 75)\n",
            "('Sibiu', 140)\n"
          ]
        }
      ],
      "source": [
        "a=adjac_lis[Open]\n",
        "for i in a:\n",
        "    print(i)"
      ]
    },
    {
      "cell_type": "code",
      "execution_count": null,
      "metadata": {
        "id": "gtY4fGIIYfHH",
        "outputId": "a4acf74d-05e8-4128-c8ae-618bc2002d70"
      },
      "outputs": [
        {
          "name": "stdout",
          "output_type": "stream",
          "text": [
            "('Arad', 366, 0)\n",
            "('Sibiu', 393, 140)\n",
            "('Rimnicu Vilcea', 273, 220)\n",
            "('Pitesti', 197, 317)\n",
            "('Bucharest', 101, 418)\n"
          ]
        },
        {
          "data": {
            "text/plain": [
              "418"
            ]
          },
          "execution_count": 136,
          "metadata": {},
          "output_type": "execute_result"
        }
      ],
      "source": [
        "adjac_lis = {\n",
        "    'Arad': [('Timisoara', 118), ('Zerind', 75), ('Sibiu', 140)],\n",
        "    'Timisoara': [('Arad', 118), ('Lugoj', 111)],\n",
        "    'Oradea': [('Sibiu', 151), ('Zerind', 71)],\n",
        "    'Zerind': [('Oradea', 71), ('Arad', 75)],\n",
        "    'Loguj':[('Timisoara', 111), ('Mehadia', 70)],\n",
        "    'Mehadia':[('Lugoj', 70), ('Drobeta', 75)],\n",
        "    'Drobeta':[('Mehadia', 75), ('Craiova', 120)],\n",
        "    'Craiova':[('Drobeta', 120), ('Rimnicu Vilcea', 146), ('Pitesti', 138)],\n",
        "    'Sibiu':[('Arad', 140), ('Oradea', 151), ('Fagaras', 99),('Rimnicu Vilcea', 80)],\n",
        "    'Rimnicu Vilcea': [('Sibiu', 80), ('Pitesti', 97), ('Craiova',146)],\n",
        "    'Fagaras':[('Sibiu',99), ('Bucharest', 211)],\n",
        "    'Pitesti':[('Bucharest', 101), ('Craiova', 138),('Rimnicu Vilcea', 97)],\n",
        "    'Bucharest':[('Pitesti', 101), ('Fagaras', 211)],\n",
        "}\n",
        "graph1 = Graph(adjac_lis)\n",
        "graph1.a_star_algorithm('Arad', 'Bucharest')"
      ]
    },
    {
      "cell_type": "code",
      "execution_count": null,
      "metadata": {
        "id": "-cau394LSNFi"
      },
      "outputs": [],
      "source": []
    }
  ],
  "metadata": {
    "colab": {
      "provenance": []
    },
    "kernelspec": {
      "display_name": "Python 3 (ipykernel)",
      "language": "python",
      "name": "python3"
    },
    "language_info": {
      "codemirror_mode": {
        "name": "ipython",
        "version": 3
      },
      "file_extension": ".py",
      "mimetype": "text/x-python",
      "name": "python",
      "nbconvert_exporter": "python",
      "pygments_lexer": "ipython3",
      "version": "3.9.12"
    }
  },
  "nbformat": 4,
  "nbformat_minor": 0
}